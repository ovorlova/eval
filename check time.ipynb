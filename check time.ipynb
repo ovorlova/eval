{
 "cells": [
  {
   "cell_type": "code",
   "execution_count": 1,
   "metadata": {},
   "outputs": [],
   "source": [
    "import json\n",
    "import numpy\n",
    "import pandas"
   ]
  },
  {
   "cell_type": "code",
   "execution_count": 2,
   "metadata": {},
   "outputs": [],
   "source": [
    "data = json.load(open(\"test_score.json\", 'r'))"
   ]
  },
  {
   "cell_type": "code",
   "execution_count": 7,
   "metadata": {},
   "outputs": [],
   "source": [
    "df = pandas.DataFrame(data)"
   ]
  },
  {
   "cell_type": "code",
   "execution_count": 10,
   "metadata": {},
   "outputs": [
    {
     "data": {
      "image/png": "[encoded data removed]",
      "text/plain": [
       "<Figure size 432x288 with 1 Axes>"
      ]
     },
     "metadata": {
      "needs_background": "light"
     },
     "output_type": "display_data"
    }
   ],
   "source": [
    "_, bp = pandas.DataFrame.boxplot(df,return_type = 'both')"
   ]
  },
  {
   "cell_type": "code",
   "execution_count": 11,
   "metadata": {},
   "outputs": [],
   "source": [
    "outliers = [flier.get_ydata() for flier in bp[\"fliers\"]]\n",
    "boxes = [box.get_ydata() for box in bp[\"boxes\"]]\n",
    "medians = [median.get_ydata() for median in bp[\"medians\"]]\n",
    "whiskers = [whiskers.get_ydata() for whiskers in bp[\"whiskers\"]]"
   ]
  },
  {
   "cell_type": "code",
   "execution_count": 16,
   "metadata": {},
   "outputs": [
    {
     "data": {
      "text/html": [
       "<div>\n",
       "<style scoped>\n",
       "    .dataframe tbody tr th:only-of-type {\n",
       "        vertical-align: middle;\n",
       "    }\n",
       "\n",
       "    .dataframe tbody tr th {\n",
       "        vertical-align: top;\n",
       "    }\n",
       "\n",
       "    .dataframe thead th {\n",
       "        text-align: right;\n",
       "    }\n",
       "</style>\n",
       "<table border=\"1\" class=\"dataframe\">\n",
       "  <thead>\n",
       "    <tr style=\"text-align: right;\">\n",
       "      <th></th>\n",
       "      <th>tot</th>\n",
       "      <th>load</th>\n",
       "      <th>pre</th>\n",
       "      <th>net</th>\n",
       "      <th>dec</th>\n",
       "      <th>post</th>\n",
       "      <th>merge</th>\n",
       "    </tr>\n",
       "  </thead>\n",
       "  <tbody>\n",
       "    <tr>\n",
       "      <th>count</th>\n",
       "      <td>1751.000000</td>\n",
       "      <td>1751.000000</td>\n",
       "      <td>1751.000000</td>\n",
       "      <td>1751.000000</td>\n",
       "      <td>1751.000000</td>\n",
       "      <td>1751.000000</td>\n",
       "      <td>1751.000000</td>\n",
       "    </tr>\n",
       "    <tr>\n",
       "      <th>mean</th>\n",
       "      <td>0.193242</td>\n",
       "      <td>0.000025</td>\n",
       "      <td>0.002017</td>\n",
       "      <td>0.180648</td>\n",
       "      <td>0.008135</td>\n",
       "      <td>0.002368</td>\n",
       "      <td>0.000047</td>\n",
       "    </tr>\n",
       "    <tr>\n",
       "      <th>std</th>\n",
       "      <td>0.007410</td>\n",
       "      <td>0.000007</td>\n",
       "      <td>0.000350</td>\n",
       "      <td>0.005445</td>\n",
       "      <td>0.005157</td>\n",
       "      <td>0.000787</td>\n",
       "      <td>0.000013</td>\n",
       "    </tr>\n",
       "    <tr>\n",
       "      <th>min</th>\n",
       "      <td>0.179826</td>\n",
       "      <td>0.000011</td>\n",
       "      <td>0.001902</td>\n",
       "      <td>0.172060</td>\n",
       "      <td>0.003360</td>\n",
       "      <td>0.001190</td>\n",
       "      <td>0.000023</td>\n",
       "    </tr>\n",
       "    <tr>\n",
       "      <th>25%</th>\n",
       "      <td>0.191148</td>\n",
       "      <td>0.000024</td>\n",
       "      <td>0.001960</td>\n",
       "      <td>0.178109</td>\n",
       "      <td>0.007960</td>\n",
       "      <td>0.002485</td>\n",
       "      <td>0.000050</td>\n",
       "    </tr>\n",
       "    <tr>\n",
       "      <th>50%</th>\n",
       "      <td>0.192058</td>\n",
       "      <td>0.000026</td>\n",
       "      <td>0.001968</td>\n",
       "      <td>0.178794</td>\n",
       "      <td>0.008537</td>\n",
       "      <td>0.002547</td>\n",
       "      <td>0.000051</td>\n",
       "    </tr>\n",
       "    <tr>\n",
       "      <th>75%</th>\n",
       "      <td>0.193567</td>\n",
       "      <td>0.000028</td>\n",
       "      <td>0.001978</td>\n",
       "      <td>0.180560</td>\n",
       "      <td>0.009206</td>\n",
       "      <td>0.002596</td>\n",
       "      <td>0.000053</td>\n",
       "    </tr>\n",
       "    <tr>\n",
       "      <th>max</th>\n",
       "      <td>0.327436</td>\n",
       "      <td>0.000055</td>\n",
       "      <td>0.005180</td>\n",
       "      <td>0.222081</td>\n",
       "      <td>0.142803</td>\n",
       "      <td>0.013381</td>\n",
       "      <td>0.000138</td>\n",
       "    </tr>\n",
       "  </tbody>\n",
       "</table>\n",
       "</div>"
      ],
      "text/plain": [
       "               tot         load          pre          net          dec  \\\n",
       "count  1751.000000  1751.000000  1751.000000  1751.000000  1751.000000   \n",
       "mean      0.193242     0.000025     0.002017     0.180648     0.008135   \n",
       "std       0.007410     0.000007     0.000350     0.005445     0.005157   \n",
       "min       0.179826     0.000011     0.001902     0.172060     0.003360   \n",
       "25%       0.191148     0.000024     0.001960     0.178109     0.007960   \n",
       "50%       0.192058     0.000026     0.001968     0.178794     0.008537   \n",
       "75%       0.193567     0.000028     0.001978     0.180560     0.009206   \n",
       "max       0.327436     0.000055     0.005180     0.222081     0.142803   \n",
       "\n",
       "              post        merge  \n",
       "count  1751.000000  1751.000000  \n",
       "mean      0.002368     0.000047  \n",
       "std       0.000787     0.000013  \n",
       "min       0.001190     0.000023  \n",
       "25%       0.002485     0.000050  \n",
       "50%       0.002547     0.000051  \n",
       "75%       0.002596     0.000053  \n",
       "max       0.013381     0.000138  "
      ]
     },
     "execution_count": 16,
     "metadata": {},
     "output_type": "execute_result"
    }
   ],
   "source": [
    "df.describe()"
   ]
  },
  {
   "cell_type": "code",
   "execution_count": 38,
   "metadata": {},
   "outputs": [],
   "source": [
    "mean_time = {}\n",
    "for i, time in enumerate(data):\n",
    "    time_list = []\n",
    "    for num in data[time]:\n",
    "        if num not in outliers[i]:\n",
    "            time_list.append(num)\n",
    "    mean_time[time] = sum(time_list)/len(time_list)"
   ]
  },
  {
   "cell_type": "code",
   "execution_count": 39,
   "metadata": {},
   "outputs": [
    {
     "data": {
      "text/plain": [
       "{'tot': 0.19213455398647772,\n",
       " 'load': 2.6852771105519328e-05,\n",
       " 'pre': 0.0019710832449985945,\n",
       " 'net': 0.1790026071087626,\n",
       " 'dec': 0.008904217767171534,\n",
       " 'post': 0.002567747533563873,\n",
       " 'merge': 5.192848582879296e-05}"
      ]
     },
     "execution_count": 39,
     "metadata": {},
     "output_type": "execute_result"
    }
   ],
   "source": [
    "mean_time"
   ]
  },
  {
   "cell_type": "code",
   "execution_count": null,
   "metadata": {},
   "outputs": [],
   "source": []
  }
 ],
 "metadata": {
  "kernelspec": {
   "display_name": "Python 3",
   "language": "python",
   "name": "python3"
  },
  "language_info": {
   "codemirror_mode": {
    "name": "ipython",
    "version": 3
   },
   "file_extension": ".py",
   "mimetype": "text/x-python",
   "name": "python",
   "nbconvert_exporter": "python",
   "pygments_lexer": "ipython3",
   "version": "3.7.4"
  }
 },
 "nbformat": 4,
 "nbformat_minor": 2
}
